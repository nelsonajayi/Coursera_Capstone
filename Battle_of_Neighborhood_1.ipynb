{
 "cells": [
  {
   "cell_type": "markdown",
   "metadata": {},
   "source": [
    "## Siting a Pizza Place in San Francisco"
   ]
  },
  {
   "cell_type": "markdown",
   "metadata": {},
   "source": [
    "#### Introduction/Business Problem"
   ]
  },
  {
   "cell_type": "markdown",
   "metadata": {},
   "source": [
    "San Francisco Area without a doubt has many pizza places but most of these have been around a long time and the owners of these places lack creativity in bringing new experiences for the huge pizza lovers in the area and California as a whole. This problem is solved already by Maxwell's new pizza place that opened a year ago in the city of Sacramento and has brought many novel topings and other creative ideas that residents of Sacramento have come to love . It is the desire of Maxwell's to extend this to the city of San Francisco but learning from their experience in Sacramento,  they are trying to be careful in their choice of where to site their pizza places in San Francisco. Maxwell's is confident of the market their pizza place is going to attract but they want to run their businesses in safe environments. This is the question this project is trying to answer."
   ]
  },
  {
   "cell_type": "markdown",
   "metadata": {},
   "source": [
    "#### Audience"
   ]
  },
  {
   "cell_type": "markdown",
   "metadata": {},
   "source": [
    "Primarily, this report is being prepared for Maxwell's Pizza but it will serve the need of any other new Pizza business looking to compete in San Francisco market."
   ]
  },
  {
   "cell_type": "markdown",
   "metadata": {},
   "source": [
    "#### Data for the Project "
   ]
  },
  {
   "cell_type": "markdown",
   "metadata": {},
   "source": [
    "We're definitely going to need data to answer the question. Luckily, the city of San Francisco has series of useful dataset which they have generously made available to the public. In addition to the San Francisco city dataset, we'll take advantage of the Foursquare API. We'll be using the registered businesses and crimes datasets from the city of San Francisco and then we get location and venue information through the foursquare API.\n",
    "\n"
   ]
  },
  {
   "cell_type": "code",
   "execution_count": null,
   "metadata": {},
   "outputs": [],
   "source": []
  }
 ],
 "metadata": {
  "kernelspec": {
   "display_name": "Python",
   "language": "python",
   "name": "conda-env-python-py"
  },
  "language_info": {
   "codemirror_mode": {
    "name": "ipython",
    "version": 3
   },
   "file_extension": ".py",
   "mimetype": "text/x-python",
   "name": "python",
   "nbconvert_exporter": "python",
   "pygments_lexer": "ipython3",
   "version": "3.6.10"
  }
 },
 "nbformat": 4,
 "nbformat_minor": 4
}
